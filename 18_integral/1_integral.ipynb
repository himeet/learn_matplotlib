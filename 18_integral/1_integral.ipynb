{
 "cells": [
  {
   "cell_type": "code",
   "execution_count": 66,
   "metadata": {},
   "outputs": [
    {
     "data": {
      "image/png": "[encoded data removed]",
      "text/plain": [
       "<Figure size 432x288 with 1 Axes>"
      ]
     },
     "metadata": {
      "needs_background": "light"
     },
     "output_type": "display_data"
    }
   ],
   "source": [
    "# 绘制积分图\n",
    "import numpy as np\n",
    "import matplotlib.pyplot as plt\n",
    "from matplotlib.patches import Polygon\n",
    "%matplotlib inline\n",
    "\n",
    "\n",
    "def func(x):\n",
    "    return -(x-2)*(x-8)+40\n",
    "\n",
    "\n",
    "def plot():\n",
    "    x = np.linspace(0, 10)\n",
    "    y = func(x)\n",
    "    fig, axes = plt.subplots()\n",
    "    plt.plot(x, y, 'r', linewidth=2)\n",
    "    \n",
    "    a = 2\n",
    "    b = 9\n",
    "    axes.set_xticks([a, b])\n",
    "    axes.set_yticks([])\n",
    "    axes.set_xticklabels([r'$a$', r'$b$'])\n",
    "    \n",
    "    plt.figtext(0.88, 0.06, r'$x$')\n",
    "    plt.figtext(0.1, 0.88, r'$y$')\n",
    "    \n",
    "    ix = np.linspace(a, b)\n",
    "    iy = func(ix)\n",
    "    ixy = zip(ix, iy)\n",
    "    verts = [(a, 0)]+list(ixy)+[(b, 0)]\n",
    "    poly = Polygon(verts, facecolor='0.9', edgecolor='0.5')\n",
    "    axes.add_patch(poly)\n",
    "    \n",
    "    x_math = (a+b)*0.5\n",
    "    y_math = 35\n",
    "    plt.text(x_math, y_math, r'$\\int_a^b (-(x-2)*(x-8)+40)dx$', fontsize=12, horizontalalignment='center')\n",
    "    \n",
    "    plt.show()\n",
    "    \n",
    "    \n",
    "def main():\n",
    "    plot()\n",
    "    \n",
    "    \n",
    "if __name__ == '__main__':\n",
    "    main()"
   ]
  },
  {
   "cell_type": "code",
   "execution_count": null,
   "metadata": {},
   "outputs": [],
   "source": []
  }
 ],
 "metadata": {
  "kernelspec": {
   "display_name": "Python 3",
   "language": "python",
   "name": "python3"
  },
  "language_info": {
   "codemirror_mode": {
    "name": "ipython",
    "version": 3
   },
   "file_extension": ".py",
   "mimetype": "text/x-python",
   "name": "python",
   "nbconvert_exporter": "python",
   "pygments_lexer": "ipython3",
   "version": "3.7.0"
  }
 },
 "nbformat": 4,
 "nbformat_minor": 4
}
